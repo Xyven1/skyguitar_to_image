{
    "cells": [
        {
            "cell_type": "code",
            "execution_count": 15,
            "metadata": {},
            "outputs": [
                {
                    "name": "stdout",
                    "output_type": "stream",
                    "text": [
                        "[Point(x=2086, y=618), Point(x=2578, y=668)]\n"
                    ]
                }
            ],
            "source": [
                "import pyautogui\n",
                "\n",
                "x = []\n",
                "while True:\n",
                "  if(len(x)==2):\n",
                "    break\n",
                "  val = input()\n",
                "  if(val != \"\"):\n",
                "    break\n",
                "  else:\n",
                "    im = x.append(pyautogui.position())\n",
                "print(x)\n",
                "#test screen shot\n",
                "i = pyautogui.screenshot(region=(x[0].x, x[0].y, x[1].x-x[0].x,x[1].y-x[0].y))\n"
            ]
        },
        {
            "cell_type": "code",
            "execution_count": 16,
            "metadata": {},
            "outputs": [
                {
                    "ename": "NameError",
                    "evalue": "name 'np' is not defined",
                    "output_type": "error",
                    "traceback": [
                        "\u001b[1;31m---------------------------------------------------------------------------\u001b[0m",
                        "\u001b[1;31mNameError\u001b[0m                                 Traceback (most recent call last)",
                        "\u001b[1;32m~\\AppData\\Local\\Temp/ipykernel_15792/2005565469.py\u001b[0m in \u001b[0;36m<module>\u001b[1;34m\u001b[0m\n\u001b[0;32m      9\u001b[0m \u001b[1;33m\u001b[0m\u001b[0m\n\u001b[0;32m     10\u001b[0m \u001b[1;31m# Preprocessing the image starts\u001b[0m\u001b[1;33m\u001b[0m\u001b[1;33m\u001b[0m\u001b[0m\n\u001b[1;32m---> 11\u001b[1;33m \u001b[0mimg\u001b[0m \u001b[1;33m=\u001b[0m \u001b[0mcv2\u001b[0m\u001b[1;33m.\u001b[0m\u001b[0mcvtColor\u001b[0m\u001b[1;33m(\u001b[0m\u001b[0mnp\u001b[0m\u001b[1;33m.\u001b[0m\u001b[0marray\u001b[0m\u001b[1;33m(\u001b[0m\u001b[0mi\u001b[0m\u001b[1;33m)\u001b[0m\u001b[1;33m,\u001b[0m \u001b[0mcv2\u001b[0m\u001b[1;33m.\u001b[0m\u001b[0mCOLOR_RGB2BGR\u001b[0m\u001b[1;33m)\u001b[0m\u001b[1;33m\u001b[0m\u001b[1;33m\u001b[0m\u001b[0m\n\u001b[0m\u001b[0;32m     12\u001b[0m \u001b[1;33m\u001b[0m\u001b[0m\n\u001b[0;32m     13\u001b[0m \u001b[1;31m# Convert the image to gray scale\u001b[0m\u001b[1;33m\u001b[0m\u001b[1;33m\u001b[0m\u001b[0m\n",
                        "\u001b[1;31mNameError\u001b[0m: name 'np' is not defined"
                    ]
                }
            ],
            "source": [
                "# Import required packages\n",
                "import cv2\n",
                "import numpy as np\n",
                "import pytesseract\n",
                " \n",
                "# Mention the installed location of Tesseract-OCR in your system\n",
                "# pytesseract.pytesseract.tesseract_cmd = 'System_path_to_tesseract.exe'\n",
                " \n",
                "# Read image from which text needs to be extracted\n",
                " \n",
                "# Preprocessing the image starts\n",
                "img = cv2.cvtColor(np.array(i), cv2.COLOR_RGB2BGR)\n",
                "\n",
                "# Convert the image to gray scale\n",
                "gray = cv2.cvtColor(img, cv2.COLOR_BGR2GRAY)\n",
                " \n",
                "# Performing OTSU threshold\n",
                "ret, thresh1 = cv2.threshold(gray, 0, 255, cv2.THRESH_OTSU | cv2.THRESH_BINARY_INV)\n",
                " \n",
                "# Specify structure shape and kernel size.\n",
                "# Kernel size increases or decreases the area\n",
                "# of the rectangle to be detected.\n",
                "# A smaller value like (10, 10) will detect\n",
                "# each word instead of a sentence.\n",
                "rect_kernel = cv2.getStructuringElement(cv2.MORPH_RECT, (18, 18))\n",
                " \n",
                "# Applying dilation on the threshold image\n",
                "dilation = cv2.dilate(thresh1, rect_kernel, iterations = 1)\n",
                " \n",
                "# Finding contours\n",
                "contours, hierarchy = cv2.findContours(dilation, cv2.RETR_EXTERNAL,\n",
                "                                                 cv2.CHAIN_APPROX_NONE)\n",
                " \n",
                "# Creating a copy of image\n",
                "im2 = img.copy()\n",
                " \n",
                "# A text file is created and flushed\n",
                "file = open(\"recognized.txt\", \"w+\")\n",
                "file.write(\"\")\n",
                "file.close()\n",
                " \n",
                "# Looping through the identified contours\n",
                "# Then rectangular part is cropped and passed on\n",
                "# to pytesseract for extracting text from it\n",
                "# Extracted text is then written into the text file\n",
                "for cnt in contours:\n",
                "    x, y, w, h = cv2.boundingRect(cnt)\n",
                "     \n",
                "    # Drawing a rectangle on copied image\n",
                "    rect = cv2.rectangle(im2, (x, y), (x + w, y + h), (0, 255, 0), 2)\n",
                "     \n",
                "    # Cropping the text block for giving input to OCR\n",
                "    cropped = im2[y:y + h, x:x + w]\n",
                "     \n",
                "    # Open the file in append mode\n",
                "    file = open(\"recognized.txt\", \"a\")\n",
                "     \n",
                "    # Apply OCR on the cropped image\n",
                "    text = pytesseract.image_to_string(cropped)\n",
                "     \n",
                "    # Appending the text into file\n",
                "    file.write(text)\n",
                "    file.write(\"\\n\")\n",
                "     \n",
                "    # Close the file\n",
                "    file.close"
            ]
        },
        {
            "cell_type": "code",
            "execution_count": 11,
            "metadata": {},
            "outputs": [],
            "source": [
                "import pyautogui\n",
                "import numpy as np\n",
                "import cv2\n",
                "from matplotlib.pyplot import imshow\n",
                "\n",
                "l = []\n",
                "if(len(x)==2):\n",
                "  region = (x[0].x, x[0].y, x[1].x-x[0].x,x[1].y-x[0].y)\n",
                "else:\n",
                "  region = (1750,572, 1222, 313)\n",
                "# untill the user hits esc, wait for the user to hit enter, then take a screenshot, and add it to the list l\n",
                "pyautogui.position(0,0)\n",
                "while True:\n",
                "  val = input()\n",
                "  if(val != \"\"):\n",
                "    break\n",
                "  else:\n",
                "    im = pyautogui.screenshot(region=region)\n",
                "    l.append(im)\n"
            ]
        },
        {
            "cell_type": "code",
            "execution_count": 19,
            "metadata": {},
            "outputs": [
                {
                    "data": {
                        "text/plain": [
                            "True"
                        ]
                    },
                    "execution_count": 19,
                    "metadata": {},
                    "output_type": "execute_result"
                },
                {
                    "data": {
                        "image/png": "[encoded data removed]",
                        "text/plain": [
                            "<Figure size 432x288 with 1 Axes>"
                        ]
                    },
                    "metadata": {
                        "needs_background": "light"
                    },
                    "output_type": "display_data"
                }
            ],
            "source": [
                "converted_images = [cv2.cvtColor(np.array(i), cv2.COLOR_RGB2BGR) for i in l]\n",
                "shape = converted_images[0].shape\n",
                "del converted_images[-3]\n",
                "# vertically concatenate the images\n",
                "final_image = cv2.vconcat(converted_images)\n",
                "imshow(final_image)\n",
                "cv2.imwrite(\"screencap.png\", final_image)\n",
                "# code to save the images as a series of aproximately paper sized images, as opposed to one long image\n",
                "\n",
                "# group converted images into groups of 7\n",
                "# converted_images_grouped = [converted_images[i:i+5] for i in range(0, len(converted_images), 5)]\n",
                "# final_images = [cv2.vconcat(g) for g in converted_images_grouped]\n",
                "# for i in range(len(final_images)):\n",
                "#   cv2.imwrite(\"page{}.png\".format(i), final_images[i])"
            ]
        }
    ],
    "metadata": {
        "interpreter": {
            "hash": "2be5faf79681da6f2a61fdfdd5405d65d042280f7fba6178067603e3a2925119"
        },
        "kernelspec": {
            "display_name": "Python 3.10.0 64-bit",
            "name": "python3"
        },
        "language_info": {
            "codemirror_mode": {
                "name": "ipython",
                "version": 3
            },
            "file_extension": ".py",
            "mimetype": "text/x-python",
            "name": "python",
            "nbconvert_exporter": "python",
            "pygments_lexer": "ipython3",
            "version": "3.10.0"
        },
        "orig_nbformat": 4
    },
    "nbformat": 4,
    "nbformat_minor": 2
}
